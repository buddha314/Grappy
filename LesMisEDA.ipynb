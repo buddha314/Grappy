{
 "cells": [
  {
   "cell_type": "markdown",
   "metadata": {},
   "source": [
    "# Looking into iGraph and Les Mis data\n",
    "\n",
    "The [Cho Energy PPT](http://web.ecs.baylor.edu/faculty/cho/Cho-Entropy.pdf)  He has the entropy calculation as\n",
    "\n",
    "$$e(v) = -p_i \\log(p_i) - p_o\\log(p_o)$$\n",
    "\n",
    "where $i$ is the internal weight and $o$ is the external weight.  One thing I keep forgetting is that you take the entropy of the whole graph, not just the sub-graph\n",
    "\n",
    "[Here](https://blog.thedataincubator.com/2015/08/embedding-d3-in-an-ipython-notebook/) is a reference for javascript in Jupyter. No, use http://www.primerpy.com/post/js/d3-visualization-embedded-in-jupyter-notebook/ "
   ]
  },
  {
   "cell_type": "code",
   "execution_count": 258,
   "metadata": {},
   "outputs": [],
   "source": [
    "from IPython.core.display import display, HTML\n",
    "from string import Template\n",
    "import igraph\n",
    "import json\n",
    "import math\n",
    "import copy"
   ]
  },
  {
   "cell_type": "code",
   "execution_count": 259,
   "metadata": {
    "scrolled": true
   },
   "outputs": [
    {
     "data": {
      "text/html": [
       "<script src=\"https://cdnjs.cloudflare.com/ajax/libs/d3/3.5.16/d3.min.js\"></script>"
      ],
      "text/plain": [
       "<IPython.core.display.HTML object>"
      ]
     },
     "execution_count": 259,
     "metadata": {},
     "output_type": "execute_result"
    }
   ],
   "source": [
    "HTML('<script src=\"https://cdnjs.cloudflare.com/ajax/libs/d3/3.5.16/d3.min.js\"></script>')"
   ]
  },
  {
   "cell_type": "code",
   "execution_count": 260,
   "metadata": {},
   "outputs": [],
   "source": [
    "css_text = '''\n",
    "'''"
   ]
  },
  {
   "cell_type": "code",
   "execution_count": 261,
   "metadata": {},
   "outputs": [],
   "source": [
    "js_text_template = Template('''\n",
    "       var bogoSVG = d3.select(\"#animation\") \n",
    "          .append(\"svg\")\n",
    "          .attr(\"width\", 300)\n",
    "          .attr(\"height\", 300);    \n",
    "\n",
    "      var data = $python_data ;\n",
    "       bogoSVG.append(\"circle\")\n",
    "          .style(\"stroke\", \"gray\")\n",
    "          .style(\"fill\", \"cyan\")\n",
    "          .attr(\"r\", data[0]['r'])\n",
    "          .attr(\"cx\", data[0]['cx'])\n",
    "          .attr(\"cy\", data[0]['cy'])\n",
    "          .transition()\n",
    "             .delay(100)\n",
    "             .duration(8000)  \n",
    "             .attr(\"r\", 10)\n",
    "             .attr(\"cx\", data[0]['cx'])\n",
    "             .style(\"fill\", \"blue\"); \n",
    "''')"
   ]
  },
  {
   "cell_type": "code",
   "execution_count": 262,
   "metadata": {},
   "outputs": [],
   "source": [
    "html_template = Template('''\n",
    "<style> $css_text </style>\n",
    "<div id=\"animation\"></div>\n",
    "<script> $js_text </script>\n",
    "''')"
   ]
  },
  {
   "cell_type": "code",
   "execution_count": 263,
   "metadata": {},
   "outputs": [],
   "source": [
    "js_text = js_text_template.substitute({'python_data': json.dumps([{'r': 130, 'cx': 150, 'cy': 150}])})"
   ]
  },
  {
   "cell_type": "code",
   "execution_count": 264,
   "metadata": {},
   "outputs": [
    {
     "data": {
      "text/html": [
       "\n",
       "<style> \n",
       " </style>\n",
       "<div id=\"animation\"></div>\n",
       "<script> \n",
       "       var bogoSVG = d3.select(\"#animation\") \n",
       "          .append(\"svg\")\n",
       "          .attr(\"width\", 300)\n",
       "          .attr(\"height\", 300);    \n",
       "\n",
       "      var data = [{\"cx\": 150, \"cy\": 150, \"r\": 130}] ;\n",
       "       bogoSVG.append(\"circle\")\n",
       "          .style(\"stroke\", \"gray\")\n",
       "          .style(\"fill\", \"cyan\")\n",
       "          .attr(\"r\", data[0]['r'])\n",
       "          .attr(\"cx\", data[0]['cx'])\n",
       "          .attr(\"cy\", data[0]['cy'])\n",
       "          .transition()\n",
       "             .delay(100)\n",
       "             .duration(8000)  \n",
       "             .attr(\"r\", 10)\n",
       "             .attr(\"cx\", data[0]['cx'])\n",
       "             .style(\"fill\", \"blue\"); \n",
       " </script>\n"
      ],
      "text/plain": [
       "<IPython.core.display.HTML object>"
      ]
     },
     "execution_count": 264,
     "metadata": {},
     "output_type": "execute_result"
    }
   ],
   "source": [
    "HTML(html_template.substitute({'css_text': css_text, 'js_text': js_text}))\n",
    "# Refresh the page to see the animation again"
   ]
  },
  {
   "cell_type": "markdown",
   "metadata": {},
   "source": [
    "# The Graph"
   ]
  },
  {
   "cell_type": "code",
   "execution_count": 166,
   "metadata": {},
   "outputs": [],
   "source": [
    "#fn = \"data/miserables.json\"\n",
    "fn = \"data/guardians.json\"\n",
    "with open(fn, 'r') as f:\n",
    "    mis = json.load(f)"
   ]
  },
  {
   "cell_type": "code",
   "execution_count": 167,
   "metadata": {},
   "outputs": [],
   "source": [
    "g = igraph.Graph()"
   ]
  },
  {
   "cell_type": "code",
   "execution_count": 168,
   "metadata": {},
   "outputs": [],
   "source": [
    "for n in mis['nodes']:\n",
    "    g.add_vertex(n['name'])\n",
    "for l in mis['links']:\n",
    "    g.add_edge(l['source'], l['target'], weight=l['value'])"
   ]
  },
  {
   "cell_type": "code",
   "execution_count": 243,
   "metadata": {},
   "outputs": [],
   "source": [
    "def vertex_flow(subgraph, v):\n",
    "    internal_energy = 0\n",
    "    external_energy = 0\n",
    "    nbs = v.neighbors()\n",
    "    nids = [x.index for x in subgraph]\n",
    "    v_base_energy = 0.0\n",
    "    for nb in nbs:\n",
    "        v_base_energy += sum([e['weight'] for e in g.es.select(_source=v.index,_target=nb.index)])\n",
    "        v_base_energy += sum([e['weight'] for e in g.es.select(_source=nb.index,_target=v.index)])\n",
    "\n",
    "    for nb in nbs:\n",
    "        w = sum([e['weight'] for e in g.es.select(_source=v.index,_target=nb.index)]) / v_base_energy\n",
    "        w += sum([e['weight'] for e in g.es.select(_source=nb.index,_target=v.index)]) / v_base_energy\n",
    "        if nb.index in nids:\n",
    "            internal_energy += w\n",
    "        else:\n",
    "            external_energy += w\n",
    " \n",
    "    p = internal_energy/(internal_energy + external_energy)\n",
    "\n",
    "    e = 0\n",
    "    if p >0:\n",
    "        e += -p*math.log(p,2)\n",
    "    if p < 1:\n",
    "        e+= -(1-p) * math.log(1-p,2)\n",
    "    return e"
   ]
  },
  {
   "cell_type": "code",
   "execution_count": 252,
   "metadata": {
    "scrolled": true
   },
   "outputs": [
    {
     "data": {
      "text/plain": [
       "0.8112781244591328"
      ]
     },
     "execution_count": 252,
     "metadata": {},
     "output_type": "execute_result"
    }
   ],
   "source": [
    "subgraph = g.vs([0,1,2,3])\n",
    "vertex_flow(subgraph, g.vs[3])"
   ]
  },
  {
   "cell_type": "code",
   "execution_count": 255,
   "metadata": {},
   "outputs": [
    {
     "data": {
      "text/plain": [
       "0.0"
      ]
     },
     "execution_count": 255,
     "metadata": {},
     "output_type": "execute_result"
    }
   ],
   "source": [
    "vertex_flow(subgraph, g.vs[5])"
   ]
  },
  {
   "cell_type": "code",
   "execution_count": 249,
   "metadata": {},
   "outputs": [],
   "source": [
    "def boundary_entropy(subgraph):\n",
    "    internal_energy = 0\n",
    "    external_energy = 0\n",
    "    base_energy = 0\n",
    "    nids = [x.index for x in subgraph]\n",
    "\n",
    "    entropy = 0\n",
    "    for v in subgraph:\n",
    "        entropy += vertex_flow(subgraph, v)\n",
    "    \n",
    "    return entropy"
   ]
  },
  {
   "cell_type": "code",
   "execution_count": 256,
   "metadata": {},
   "outputs": [
    {
     "data": {
      "text/plain": [
       "0.8112781244591328"
      ]
     },
     "execution_count": 256,
     "metadata": {},
     "output_type": "execute_result"
    }
   ],
   "source": [
    "subgraph = g.vs([0,1,2,3])\n",
    "boundary_entropy(subgraph)"
   ]
  },
  {
   "cell_type": "code",
   "execution_count": 142,
   "metadata": {},
   "outputs": [],
   "source": [
    "def prune_boundary(subgraph, current_entropy):\n",
    "    resultant_subgraph = copy.copy(subgraph)\n",
    "    \n",
    "    for v in subgraph:\n",
    "        sbg = copy.copy(subgraph)\n",
    "        sbg.remove(v)\n",
    "        sbg_entropy = boundary_entropy(sbg)\n",
    "        if sbg_entropy < current_entropy:\n",
    "            resultant_subgraph.remove(v)\n",
    "    resultant_entropy = boundary_entropy(resultant_subgraph)\n",
    "    return (resultant_subgraph, resultant_entropy)"
   ]
  },
  {
   "cell_type": "code",
   "execution_count": 139,
   "metadata": {},
   "outputs": [],
   "source": [
    "def grow_boundary(subgraph, current_entropy):\n",
    "    return 0"
   ]
  },
  {
   "cell_type": "code",
   "execution_count": 150,
   "metadata": {},
   "outputs": [],
   "source": [
    "def print_boundary(subgraph):\n",
    "    msg = ''\n",
    "    for v in subgraph:\n",
    "        msg += ' %s ' % v['name']\n",
    "    print(msg)\n",
    "    return msg"
   ]
  },
  {
   "cell_type": "code",
   "execution_count": 180,
   "metadata": {},
   "outputs": [],
   "source": [
    "def run():\n",
    "    for v in g.vs():\n",
    "        # First order neighbors\n",
    "        nbs = v.neighbors()\n",
    "        nbs.append(v)  # Need to be in your own set\n",
    "        interior = copy.copy(nbs)\n",
    "        nids = [x.index for x in nbs]\n",
    "        # Begin with the first order neigbors of v\n",
    "        entropy = boundary_entropy(nbs)      \n",
    "        # Start pruning\n",
    "        print(\"\\n ** %s len(interior)  (pre): %s  %s\"  % (v['name'], len(interior), entropy))\n",
    "        print_boundary(interior)\n",
    "        interior, entropy = prune_boundary(interior, entropy)\n",
    "        print_boundary(interior)\n",
    "        print(\"    %s len(interior) (post): %s  %s\" % (v['name'], len(interior), entropy))\n",
    "\n"
   ]
  },
  {
   "cell_type": "code",
   "execution_count": 185,
   "metadata": {},
   "outputs": [
    {
     "name": "stdout",
     "output_type": "stream",
     "text": [
      "Gamora v_base_energy: 2.0\n",
      "Drax v_base_energy: 2.0\n",
      "Rocket v_base_energy: 4.0\n",
      "Star Lord v_base_energy: 3.0\n",
      "\n",
      " ** Star Lord len(interior)  (pre): 4  3.87120101091\n",
      " Gamora  Drax  Rocket  Star Lord \n",
      "Drax v_base_energy: 2.0\n",
      "Rocket v_base_energy: 4.0\n",
      "Star Lord v_base_energy: 3.0\n",
      "Gamora v_base_energy: 2.0\n",
      "Rocket v_base_energy: 4.0\n",
      "Star Lord v_base_energy: 3.0\n",
      "Gamora v_base_energy: 2.0\n",
      "Drax v_base_energy: 2.0\n",
      "Star Lord v_base_energy: 3.0\n",
      "Gamora v_base_energy: 2.0\n",
      "Drax v_base_energy: 2.0\n",
      "Rocket v_base_energy: 4.0\n",
      "\n",
      "    Star Lord len(interior) (post): 0  0\n",
      "Star Lord v_base_energy: 3.0\n",
      "Rocket v_base_energy: 4.0\n",
      "Gamora v_base_energy: 2.0\n",
      "\n",
      " ** Gamora len(interior)  (pre): 3  3.17805383035\n",
      " Star Lord  Rocket  Gamora \n",
      "Rocket v_base_energy: 4.0\n",
      "Gamora v_base_energy: 2.0\n",
      "Star Lord v_base_energy: 3.0\n",
      "Gamora v_base_energy: 2.0\n",
      "Star Lord v_base_energy: 3.0\n",
      "Rocket v_base_energy: 4.0\n",
      "\n",
      "    Gamora len(interior) (post): 0  0\n",
      "Star Lord v_base_energy: 3.0\n",
      "Rocket v_base_energy: 4.0\n",
      "Drax v_base_energy: 2.0\n",
      "\n",
      " ** Drax len(interior)  (pre): 3  3.17805383035\n",
      " Star Lord  Rocket  Drax \n",
      "Rocket v_base_energy: 4.0\n",
      "Drax v_base_energy: 2.0\n",
      "Star Lord v_base_energy: 3.0\n",
      "Drax v_base_energy: 2.0\n",
      "Star Lord v_base_energy: 3.0\n",
      "Rocket v_base_energy: 4.0\n",
      "\n",
      "    Drax len(interior) (post): 0  0\n",
      "Star Lord v_base_energy: 3.0\n",
      "Gamora v_base_energy: 2.0\n",
      "Drax v_base_energy: 2.0\n",
      "Groot v_base_energy: 2.0\n",
      "Rocket v_base_energy: 4.0\n",
      "\n",
      " ** Rocket len(interior)  (pre): 5  4.56434819147\n",
      " Star Lord  Gamora  Drax  Groot  Rocket \n",
      "Gamora v_base_energy: 2.0\n",
      "Drax v_base_energy: 2.0\n",
      "Groot v_base_energy: 2.0\n",
      "Rocket v_base_energy: 4.0\n",
      "Star Lord v_base_energy: 3.0\n",
      "Drax v_base_energy: 2.0\n",
      "Groot v_base_energy: 2.0\n",
      "Rocket v_base_energy: 4.0\n",
      "Star Lord v_base_energy: 3.0\n",
      "Gamora v_base_energy: 2.0\n",
      "Groot v_base_energy: 2.0\n",
      "Rocket v_base_energy: 4.0\n",
      "Star Lord v_base_energy: 3.0\n",
      "Gamora v_base_energy: 2.0\n",
      "Drax v_base_energy: 2.0\n",
      "Rocket v_base_energy: 4.0\n",
      "Star Lord v_base_energy: 3.0\n",
      "Gamora v_base_energy: 2.0\n",
      "Drax v_base_energy: 2.0\n",
      "Groot v_base_energy: 2.0\n",
      "\n",
      "    Rocket len(interior) (post): 0  0\n",
      "Rocket v_base_energy: 4.0\n",
      "Drax v_base_energy: 3.0\n",
      "Groot v_base_energy: 2.0\n",
      "\n",
      " ** Groot len(interior)  (pre): 3  3.17805383035\n",
      " Rocket  Drax  Groot \n",
      "Drax v_base_energy: 3.0\n",
      "Groot v_base_energy: 2.0\n",
      "Rocket v_base_energy: 4.0\n",
      "Groot v_base_energy: 2.0\n",
      "Rocket v_base_energy: 4.0\n",
      "Drax v_base_energy: 3.0\n",
      "\n",
      "    Groot len(interior) (post): 0  0\n",
      "Groot v_base_energy: 2.0\n",
      "Yondu v_base_energy: 2.0\n",
      "Nebula v_base_energy: 2.0\n",
      "Drax v_base_energy: 3.0\n",
      "\n",
      " ** Drax len(interior)  (pre): 4  3.17805383035\n",
      " Groot  Yondu  Nebula  Drax \n",
      "Yondu v_base_energy: 2.0\n",
      "Nebula v_base_energy: 2.0\n",
      "Drax v_base_energy: 3.0\n",
      "Groot v_base_energy: 2.0\n",
      "Nebula v_base_energy: 2.0\n",
      "Drax v_base_energy: 3.0\n",
      "Groot v_base_energy: 2.0\n",
      "Yondu v_base_energy: 2.0\n",
      "Drax v_base_energy: 3.0\n",
      "Groot v_base_energy: 2.0\n",
      "Yondu v_base_energy: 2.0\n",
      "Nebula v_base_energy: 2.0\n",
      "\n",
      "    Drax len(interior) (post): 0  0\n",
      "Drax v_base_energy: 3.0\n",
      "Nebula v_base_energy: 2.0\n",
      "Yondu v_base_energy: 2.0\n",
      "\n",
      " ** Yondu len(interior)  (pre): 3  2.48490664979\n",
      " Drax  Nebula  Yondu \n",
      "Nebula v_base_energy: 2.0\n",
      "Yondu v_base_energy: 2.0\n",
      "Drax v_base_energy: 3.0\n",
      "Yondu v_base_energy: 2.0\n",
      "Drax v_base_energy: 3.0\n",
      "Nebula v_base_energy: 2.0\n",
      "\n",
      "    Yondu len(interior) (post): 0  0\n",
      "Drax v_base_energy: 3.0\n",
      "Yondu v_base_energy: 2.0\n",
      "Nebula v_base_energy: 2.0\n",
      "\n",
      " ** Nebula len(interior)  (pre): 3  2.48490664979\n",
      " Drax  Yondu  Nebula \n",
      "Yondu v_base_energy: 2.0\n",
      "Nebula v_base_energy: 2.0\n",
      "Drax v_base_energy: 3.0\n",
      "Nebula v_base_energy: 2.0\n",
      "Drax v_base_energy: 3.0\n",
      "Yondu v_base_energy: 2.0\n",
      "\n",
      "    Nebula len(interior) (post): 0  0\n"
     ]
    }
   ],
   "source": [
    "run()"
   ]
  },
  {
   "cell_type": "code",
   "execution_count": 60,
   "metadata": {},
   "outputs": [
    {
     "data": {
      "text/plain": [
       "1"
      ]
     },
     "execution_count": 60,
     "metadata": {},
     "output_type": "execute_result"
    }
   ],
   "source": [
    "sum([x['weight'] for x in g.es.select(_source=0, _target=1)])"
   ]
  },
  {
   "cell_type": "code",
   "execution_count": 173,
   "metadata": {},
   "outputs": [
    {
     "name": "stdout",
     "output_type": "stream",
     "text": [
      "IGRAPH UNW- 8 10 --\n",
      "+ attr: name (v), weight (e)\n",
      "+ edges (vertex names):\n",
      "Star Lord--Gamora, Star Lord--Drax, Star Lord--Rocket, Gamora--Rocket,\n",
      "Drax--Rocket, Rocket--Groot, Groot--Drax, Drax--Yondu, Drax--Nebula,\n",
      "Yondu--Nebula\n"
     ]
    }
   ],
   "source": [
    "print(g)"
   ]
  },
  {
   "cell_type": "code",
   "execution_count": 174,
   "metadata": {},
   "outputs": [],
   "source": [
    "sl = g.vs[0]"
   ]
  },
  {
   "cell_type": "code",
   "execution_count": 176,
   "metadata": {},
   "outputs": [],
   "source": [
    "nbs = sl.neighbors()"
   ]
  },
  {
   "cell_type": "code",
   "execution_count": 178,
   "metadata": {},
   "outputs": [],
   "source": [
    "nbs.append(sl)"
   ]
  },
  {
   "cell_type": "code",
   "execution_count": null,
   "metadata": {},
   "outputs": [],
   "source": []
  }
 ],
 "metadata": {
  "kernelspec": {
   "display_name": "Python 3",
   "language": "python",
   "name": "python3"
  },
  "language_info": {
   "codemirror_mode": {
    "name": "ipython",
    "version": 2
   },
   "file_extension": ".py",
   "mimetype": "text/x-python",
   "name": "python",
   "nbconvert_exporter": "python",
   "pygments_lexer": "ipython2",
   "version": "2.7.15rc1"
  }
 },
 "nbformat": 4,
 "nbformat_minor": 2
}
